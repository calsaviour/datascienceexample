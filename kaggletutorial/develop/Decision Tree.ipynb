{
 "metadata": {
  "name": "",
  "signature": "sha256:37651667fae71f4f4d42955f5e39275d75bd857a2c5a0b2e2579f76a3953a92a"
 },
 "nbformat": 3,
 "nbformat_minor": 0,
 "worksheets": [
  {
   "cells": [
    {
     "cell_type": "code",
     "collapsed": false,
     "input": [
      "# Import the Numpy library\n",
      "import numpy as np\n",
      "# Import 'tree' from scikit-learn library\n",
      "from sklearn import tree\n",
      "from "
     ],
     "language": "python",
     "metadata": {},
     "outputs": []
    }
   ],
   "metadata": {}
  }
 ]
}