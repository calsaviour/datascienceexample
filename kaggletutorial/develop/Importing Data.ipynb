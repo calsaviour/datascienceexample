{
 "metadata": {
  "name": "",
  "signature": "sha256:c36cd1594616afa21aaebb2ec16fd6dfd0b6da42abff9a1390a45c5b516f2f92"
 },
 "nbformat": 3,
 "nbformat_minor": 0,
 "worksheets": [
  {
   "cells": [
    {
     "cell_type": "markdown",
     "metadata": {},
     "source": [
      "Importing data\n"
     ]
    },
    {
     "cell_type": "code",
     "collapsed": false,
     "input": [
      "import pandas as pd"
     ],
     "language": "python",
     "metadata": {},
     "outputs": []
    },
    {
     "cell_type": "code",
     "collapsed": false,
     "input": [
      "train_path = \"../data/train.csv\"\n",
      "train = pd.read_csv(train_path)"
     ],
     "language": "python",
     "metadata": {},
     "outputs": []
    },
    {
     "cell_type": "code",
     "collapsed": false,
     "input": [
      "test_path = \"../data/test.csv\"\n",
      "test = pd.read_csv(test_path)"
     ],
     "language": "python",
     "metadata": {},
     "outputs": []
    },
    {
     "cell_type": "code",
     "collapsed": false,
     "input": [
      "print(train.head())\n",
      "print(test.head())"
     ],
     "language": "python",
     "metadata": {},
     "outputs": []
    },
    {
     "cell_type": "code",
     "collapsed": false,
     "input": [
      "test.describe()"
     ],
     "language": "python",
     "metadata": {},
     "outputs": []
    },
    {
     "cell_type": "code",
     "collapsed": false,
     "input": [
      "train.describe()"
     ],
     "language": "python",
     "metadata": {},
     "outputs": []
    },
    {
     "cell_type": "code",
     "collapsed": false,
     "input": [
      "# Passengers that survived vs passengers that passed away\n",
      "print(train['Survived'].value_counts())\n",
      "\n",
      "\n",
      "# As proportions\n",
      "print(train['Survived'].value_counts(normalize=True))\n",
      "\n",
      "# Males that survived vs males that passed away\n",
      "print(train['Survived'][train['Sex'] == 'male'].value_counts())\n",
      "\n",
      "# Females that survived vs Females that passed away\n",
      "print(train['Survived'][train['Sex'] == 'female'].value_counts())\n",
      "\n",
      "# Normalized male survival\n",
      "print(train['Survived'][train['Sex'] == 'male'].value_counts(normalize=True))\n",
      "\n",
      "# Normalized female survival\n",
      "print(train['Survived'][train['Sex'] == 'female'].value_counts(normalize=True))\n"
     ],
     "language": "python",
     "metadata": {},
     "outputs": []
    },
    {
     "cell_type": "code",
     "collapsed": false,
     "input": [
      "# Create the column Child and assign to 'NaN'\n",
      "train[\"Child\"] = float('NaN')\n",
      "\n",
      "# Assign 1 to passengers under 18, 0 to those 18 or older. Print the new column.\n",
      "train['Child'][train['Age']<18] = 1\n",
      "train['Child'][train['Age']>=18] = 0\n",
      "print(train[\"Child\"])\n",
      "\n",
      "\n",
      "# Print normalized Survival Rates for passengers under 18\n",
      "print(train[\"Survived\"][train[\"Child\"] == 1].value_counts(normalize = True))\n",
      "\n",
      "# Print normalized Survival Rates for passengers 18 or older\n",
      "print(train[\"Survived\"][train[\"Child\"] == 0].value_counts(normalize = True))\n"
     ],
     "language": "python",
     "metadata": {},
     "outputs": []
    },
    {
     "cell_type": "code",
     "collapsed": false,
     "input": [
      "# Create a copy of test: test_one\n",
      "test_one = test\n",
      "\n",
      "# Initialize a Survived column to 0\n",
      "test_one['Survived'] = 0\n",
      "\n",
      "# Set Survived to 1 if Sex equals \"female\" and print the `Survived` column from `test_one`\n",
      "test_one['Survived'][test['Sex'] == 'female'] = 1\n",
      "test_one['Survived'][test['Sex'] == 'male'] = 0\n",
      "print(test_one['Survived'])"
     ],
     "language": "python",
     "metadata": {},
     "outputs": []
    },
    {
     "cell_type": "code",
     "collapsed": false,
     "input": [],
     "language": "python",
     "metadata": {},
     "outputs": []
    }
   ],
   "metadata": {}
  }
 ]
}