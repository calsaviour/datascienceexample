{
 "metadata": {
  "name": "",
  "signature": "sha256:3b2b57b5d3aa38de9505f8750d05846c199f2a8470d506ac25e089da7f191c47"
 },
 "nbformat": 3,
 "nbformat_minor": 0,
 "worksheets": [
  {
   "cells": [
    {
     "cell_type": "markdown",
     "metadata": {},
     "source": [
      "An example showing CRUD data to database"
     ]
    },
    {
     "cell_type": "code",
     "collapsed": false,
     "input": [
      "!pip install ipython-sql"
     ],
     "language": "python",
     "metadata": {},
     "outputs": []
    },
    {
     "cell_type": "code",
     "collapsed": false,
     "input": [
      "%load_ext sql"
     ],
     "language": "python",
     "metadata": {},
     "outputs": [],
     "prompt_number": 2
    },
    {
     "cell_type": "code",
     "collapsed": false,
     "input": [
      "%config SqlMagic.autopandas=True"
     ],
     "language": "python",
     "metadata": {},
     "outputs": [],
     "prompt_number": 3
    },
    {
     "cell_type": "code",
     "collapsed": false,
     "input": [
      "import pandas as pd\n",
      "import sqlite3"
     ],
     "language": "python",
     "metadata": {},
     "outputs": [],
     "prompt_number": 4
    },
    {
     "cell_type": "code",
     "collapsed": false,
     "input": [
      "%%sql sqlite://\n",
      "CREATE TABLE presidents (first_name, last_name, year_of_birth);\n",
      "INSERT INTO presidents VALUES ('George', 'Washington', 1732);\n",
      "INSERT INTO presidents VALUES ('John', 'Adams', 1735);\n",
      "INSERT INTO presidents VALUES ('Thomas', 'Jefferson', 1743);\n",
      "INSERT INTO presidents VALUES ('James', 'Madison', 1751);\n",
      "INSERT INTO presidents VALUES ('James', 'Monroe', 1758);\n",
      "INSERT INTO presidents VALUES ('Zachary', 'Taylor', 1784);\n",
      "INSERT INTO presidents VALUES ('Abraham', 'Lincoln', 1809);\n",
      "INSERT INTO presidents VALUES ('Theodore', 'Roosevelt', 1858);\n",
      "INSERT INTO presidents VALUES ('Richard', 'Nixon', 1913);\n",
      "INSERT INTO presidents VALUES ('Barack', 'Obama', 1961);\n",
      "(sqlite3.OperationalError) table presidents already exists [SQL: u'CREATE TABLE presidents (first_name, last_name, year_of_birth);']"
     ],
     "language": "python",
     "metadata": {},
     "outputs": [
      {
       "output_type": "stream",
       "stream": "stdout",
       "text": [
        "Done.\n",
        "1 rows affected.\n",
        "1 rows affected.\n",
        "1 rows affected.\n",
        "1 rows affected.\n",
        "1 rows affected.\n",
        "1 rows affected.\n",
        "1 rows affected.\n",
        "1 rows affected.\n",
        "1 rows affected.\n",
        "1 rows affected.\n",
        "(sqlite3.OperationalError) near \"(\": syntax error [SQL: u\"(sqlite3.OperationalError) table presidents already exists [SQL: u'CREATE TABLE presidents (first_name, last_name, year_of_birth);']\"]\n"
       ]
      }
     ],
     "prompt_number": 5
    },
    {
     "cell_type": "code",
     "collapsed": false,
     "input": [
      "later_presidents = %sql SELECT * FROM presidents WHERE year_of_birth > 1825\n",
      "later_presidents"
     ],
     "language": "python",
     "metadata": {},
     "outputs": [
      {
       "output_type": "stream",
       "stream": "stdout",
       "text": [
        "Done.\n"
       ]
      },
      {
       "html": [
        "<div style=\"max-height:1000px;max-width:1500px;overflow:auto;\">\n",
        "<table border=\"1\" class=\"dataframe\">\n",
        "  <thead>\n",
        "    <tr style=\"text-align: right;\">\n",
        "      <th></th>\n",
        "      <th>first_name</th>\n",
        "      <th>last_name</th>\n",
        "      <th>year_of_birth</th>\n",
        "    </tr>\n",
        "  </thead>\n",
        "  <tbody>\n",
        "    <tr>\n",
        "      <th>0</th>\n",
        "      <td> Theodore</td>\n",
        "      <td> Roosevelt</td>\n",
        "      <td> 1858</td>\n",
        "    </tr>\n",
        "    <tr>\n",
        "      <th>1</th>\n",
        "      <td>  Richard</td>\n",
        "      <td>     Nixon</td>\n",
        "      <td> 1913</td>\n",
        "    </tr>\n",
        "    <tr>\n",
        "      <th>2</th>\n",
        "      <td>   Barack</td>\n",
        "      <td>     Obama</td>\n",
        "      <td> 1961</td>\n",
        "    </tr>\n",
        "  </tbody>\n",
        "</table>\n",
        "</div>"
       ],
       "metadata": {},
       "output_type": "pyout",
       "prompt_number": 6,
       "text": [
        "  first_name  last_name  year_of_birth\n",
        "0   Theodore  Roosevelt           1858\n",
        "1    Richard      Nixon           1913\n",
        "2     Barack      Obama           1961"
       ]
      }
     ],
     "prompt_number": 6
    },
    {
     "cell_type": "code",
     "collapsed": false,
     "input": [
      "type(later_presidents)"
     ],
     "language": "python",
     "metadata": {},
     "outputs": [
      {
       "metadata": {},
       "output_type": "pyout",
       "prompt_number": 7,
       "text": [
        "pandas.core.frame.DataFrame"
       ]
      }
     ],
     "prompt_number": 7
    },
    {
     "cell_type": "code",
     "collapsed": false,
     "input": [
      "con = sqlite3.connect(\"presidents.sqlite\")\n",
      "later_presidents.to_sql(\"presidents\", con, if_exists='replace')"
     ],
     "language": "python",
     "metadata": {},
     "outputs": [],
     "prompt_number": 8
    },
    {
     "cell_type": "code",
     "collapsed": false,
     "input": [
      "con = sqlite3.connect(\"presidents.sqlite\")\n",
      "cur = con.cursor()\n",
      "\n",
      "new_dataframe = pd.read_sql(\"SELECT * \\\n",
      "                             FROM presidents\", \n",
      "                             con=con)\n",
      "\n",
      "con.close()"
     ],
     "language": "python",
     "metadata": {},
     "outputs": [],
     "prompt_number": 9
    },
    {
     "cell_type": "code",
     "collapsed": false,
     "input": [
      "new_dataframe"
     ],
     "language": "python",
     "metadata": {},
     "outputs": [
      {
       "html": [
        "<div style=\"max-height:1000px;max-width:1500px;overflow:auto;\">\n",
        "<table border=\"1\" class=\"dataframe\">\n",
        "  <thead>\n",
        "    <tr style=\"text-align: right;\">\n",
        "      <th></th>\n",
        "      <th>index</th>\n",
        "      <th>first_name</th>\n",
        "      <th>last_name</th>\n",
        "      <th>year_of_birth</th>\n",
        "    </tr>\n",
        "  </thead>\n",
        "  <tbody>\n",
        "    <tr>\n",
        "      <th>0</th>\n",
        "      <td> 0</td>\n",
        "      <td> Theodore</td>\n",
        "      <td> Roosevelt</td>\n",
        "      <td> 1858</td>\n",
        "    </tr>\n",
        "    <tr>\n",
        "      <th>1</th>\n",
        "      <td> 1</td>\n",
        "      <td>  Richard</td>\n",
        "      <td>     Nixon</td>\n",
        "      <td> 1913</td>\n",
        "    </tr>\n",
        "    <tr>\n",
        "      <th>2</th>\n",
        "      <td> 2</td>\n",
        "      <td>   Barack</td>\n",
        "      <td>     Obama</td>\n",
        "      <td> 1961</td>\n",
        "    </tr>\n",
        "  </tbody>\n",
        "</table>\n",
        "</div>"
       ],
       "metadata": {},
       "output_type": "pyout",
       "prompt_number": 10,
       "text": [
        "   index first_name  last_name  year_of_birth\n",
        "0      0   Theodore  Roosevelt           1858\n",
        "1      1    Richard      Nixon           1913\n",
        "2      2     Barack      Obama           1961"
       ]
      }
     ],
     "prompt_number": 10
    },
    {
     "cell_type": "code",
     "collapsed": false,
     "input": [
      "result = %sql SELECT * FROM presidents WHERE last_name  = 'Obama'"
     ],
     "language": "python",
     "metadata": {},
     "outputs": [
      {
       "output_type": "stream",
       "stream": "stdout",
       "text": [
        "Done.\n"
       ]
      }
     ],
     "prompt_number": 11
    },
    {
     "cell_type": "code",
     "collapsed": false,
     "input": [
      "type(result)"
     ],
     "language": "python",
     "metadata": {},
     "outputs": [
      {
       "metadata": {},
       "output_type": "pyout",
       "prompt_number": 16,
       "text": [
        "pandas.core.frame.DataFrame"
       ]
      }
     ],
     "prompt_number": 16
    },
    {
     "cell_type": "code",
     "collapsed": false,
     "input": [],
     "language": "python",
     "metadata": {},
     "outputs": []
    }
   ],
   "metadata": {}
  }
 ]
}