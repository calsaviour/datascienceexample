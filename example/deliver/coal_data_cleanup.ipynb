{
 "metadata": {
  "name": "",
  "signature": "sha256:073189632ae89c037362dbe28bfb51f56b1743d1a0d70312ecee0b6d277401fa"
 },
 "nbformat": 3,
 "nbformat_minor": 0,
 "worksheets": [
  {
   "cells": [
    {
     "cell_type": "heading",
     "level": 1,
     "metadata": {},
     "source": [
      "\n",
      "Clean the raw data\n",
      "Data from U.S. Energy Information Administration\n",
      "Data URL: eia.gov\n",
      "Combining and cleaning the raw csv files into a cleaned data set and coherent database.\n",
      "Generally a good idea to have a separate data folder with the raw data.\n",
      "When you clean the raw data, leave the raw in place, and create cleaned version with the steps included (ideal situation for Notebook)."
     ]
    },
    {
     "cell_type": "code",
     "collapsed": false,
     "input": [
      "# %install_ext http://raw.github.com/jrjohansson/version_information/master/version_information.py\n",
      "%load_ext version_information\n",
      "%reload_ext version_information\n",
      "%version_information numpy, scipy, matplotlib, pandas"
     ],
     "language": "python",
     "metadata": {},
     "outputs": [
      {
       "html": [
        "<table><tr><th>Software</th><th>Version</th></tr><tr><td>Python</td><td>2.7.6 64bit [GCC 4.8.2]</td></tr><tr><td>IPython</td><td>2.2.0</td></tr><tr><td>OS</td><td>Linux 3.13.0 24 generic x86_64 with Ubuntu 14.04 trusty</td></tr><tr><td>numpy</td><td>1.9.0</td></tr><tr><td>scipy</td><td>0.13.3</td></tr><tr><td>matplotlib</td><td>1.3.1</td></tr><tr><td>pandas</td><td>0.14.1</td></tr><tr><td colspan='2'>Sun Jul 31 13:04:01 2016 UTC</td></tr></table>"
       ],
       "json": [
        "{\"Software versions\": [{\"version\": \"2.7.6 64bit [GCC 4.8.2]\", \"module\": \"Python\"}, {\"version\": \"2.2.0\", \"module\": \"IPython\"}, {\"version\": \"Linux 3.13.0 24 generic x86_64 with Ubuntu 14.04 trusty\", \"module\": \"OS\"}, {\"version\": \"1.9.0\", \"module\": \"numpy\"}, {\"version\": \"0.13.3\", \"module\": \"scipy\"}, {\"version\": \"1.3.1\", \"module\": \"matplotlib\"}, {\"version\": \"0.14.1\", \"module\": \"pandas\"}]}"
       ],
       "latex": [
        "\\begin{tabular}{|l|l|}\\hline\n",
        "{\\bf Software} & {\\bf Version} \\\\ \\hline\\hline\n",
        "Python & 2.7.6 64bit [GCC 4.8.2] \\\\ \\hline\n",
        "IPython & 2.2.0 \\\\ \\hline\n",
        "OS & Linux 3.13.0 24 generic x86\\_64 with Ubuntu 14.04 trusty \\\\ \\hline\n",
        "numpy & 1.9.0 \\\\ \\hline\n",
        "scipy & 0.13.3 \\\\ \\hline\n",
        "matplotlib & 1.3.1 \\\\ \\hline\n",
        "pandas & 0.14.1 \\\\ \\hline\n",
        "\\hline \\multicolumn{2}{|l|}{Sun Jul 31 13:04:01 2016 UTC} \\\\ \\hline\n",
        "\\end{tabular}\n"
       ],
       "metadata": {},
       "output_type": "pyout",
       "prompt_number": 1,
       "text": [
        "Software versions\n",
        "Python 2.7.6 64bit [GCC 4.8.2]\n",
        "IPython 2.2.0\n",
        "OS Linux 3.13.0 24 generic x86_64 with Ubuntu 14.04 trusty\n",
        "numpy 1.9.0\n",
        "scipy 0.13.3\n",
        "matplotlib 1.3.1\n",
        "pandas 0.14.1\n",
        "Sun Jul 31 13:04:01 2016 UTC"
       ]
      }
     ],
     "prompt_number": 1
    },
    {
     "cell_type": "code",
     "collapsed": false,
     "input": [
      "import numpy as np\n",
      "import pandas as pd"
     ],
     "language": "python",
     "metadata": {},
     "outputs": [],
     "prompt_number": 2
    },
    {
     "cell_type": "code",
     "collapsed": false,
     "input": [
      "!pwd"
     ],
     "language": "python",
     "metadata": {},
     "outputs": [
      {
       "output_type": "stream",
       "stream": "stdout",
       "text": [
        "/home/vagrant/notebooks/example/deliver\r\n"
       ]
      }
     ],
     "prompt_number": 3
    },
    {
     "cell_type": "code",
     "collapsed": false,
     "input": [
      "# The cleaned data file is saved here:\n",
      "# output_file = \"../data/coal_prod_cleaned.csv\""
     ],
     "language": "python",
     "metadata": {},
     "outputs": [],
     "prompt_number": 4
    },
    {
     "cell_type": "code",
     "collapsed": false,
     "input": [
      "# df1 = pd.read_csv(\"../data/coal_prod_2002.csv\", index_col=\"MSHA_ID\")\n",
      "# df2 = pd.read_csv(\"../data/coal_prod_2003.csv\", index_col=\"MSHA_ID\")\n",
      "# df3 = pd.read_csv(\"../data/coal_prod_2004.csv\", index_col=\"MSHA_ID\")\n",
      "# df4 = pd.read_csv(\"../data/coal_prod_2005.csv\", index_col=\"MSHA_ID\")\n",
      "# df5 = pd.read_csv(\"../data/coal_prod_2006.csv\", index_col=\"MSHA_ID\")\n",
      "# df6 = pd.read_csv(\"../data/coal_prod_2007.csv\", index_col=\"MSHA_ID\")\n",
      "# df7 = pd.read_csv(\"../data/coal_prod_2008.csv\", index_col=\"MSHA_ID\")\n",
      "# df8 = pd.read_csv(\"../data/coal_prod_2009.csv\", index_col=\"MSHA_ID\")\n",
      "# df9 = pd.read_csv(\"../data/coal_prod_2010.csv\", index_col=\"MSHA_ID\")\n",
      "# df10 = pd.read_csv(\"../data/coal_prod_2011.csv\", index_col=\"MSHA_ID\")\n",
      "# df11 = pd.read_csv(\"../data/coal_prod_2012.csv\", index_col=\"MSHA_ID\")\n",
      "# dframe = pd.concat((df1, df2, df3, df4, df5, df6, df7, df8, df9, df10, df11))"
     ],
     "language": "python",
     "metadata": {},
     "outputs": [],
     "prompt_number": 6
    },
    {
     "cell_type": "code",
     "collapsed": false,
     "input": [
      "dframe = pd.DataFrame.from_csv(\"../data/coal_prod_cleaned.csv\")"
     ],
     "language": "python",
     "metadata": {},
     "outputs": [],
     "prompt_number": 7
    },
    {
     "cell_type": "code",
     "collapsed": false,
     "input": [
      "# Noticed a probable typo in the data set: \n",
      "dframe['Company_Type'].unique()"
     ],
     "language": "python",
     "metadata": {},
     "outputs": [
      {
       "metadata": {},
       "output_type": "pyout",
       "prompt_number": 8,
       "text": [
        "array(['Independent Producer Operator', 'Operating Subsidiary',\n",
        "       'Contractor'], dtype=object)"
       ]
      }
     ],
     "prompt_number": 8
    },
    {
     "cell_type": "code",
     "collapsed": false,
     "input": [
      "# Correcting the Company_Type\n",
      "dframe.loc[dframe['Company_Type'] == 'Indepedent Producer Operator', 'Company_Type'] = 'Independent Producer Operator'\n",
      "dframe.head()"
     ],
     "language": "python",
     "metadata": {},
     "outputs": [
      {
       "html": [
        "<div style=\"max-height:1000px;max-width:1500px;overflow:auto;\">\n",
        "<table border=\"1\" class=\"dataframe\">\n",
        "  <thead>\n",
        "    <tr style=\"text-align: right;\">\n",
        "      <th></th>\n",
        "      <th>Average_Employees</th>\n",
        "      <th>Company_Type</th>\n",
        "      <th>Labor_Hours</th>\n",
        "      <th>Mine_Basin</th>\n",
        "      <th>Mine_County</th>\n",
        "      <th>Mine_Name</th>\n",
        "      <th>Mine_State</th>\n",
        "      <th>Mine_Status</th>\n",
        "      <th>Mine_Type</th>\n",
        "      <th>Operating_Company</th>\n",
        "      <th>Operating_Company_Address</th>\n",
        "      <th>Operation_Type</th>\n",
        "      <th>Production_short_tons</th>\n",
        "      <th>Union_Code</th>\n",
        "      <th>Year</th>\n",
        "    </tr>\n",
        "    <tr>\n",
        "      <th>MSHA_ID</th>\n",
        "      <th></th>\n",
        "      <th></th>\n",
        "      <th></th>\n",
        "      <th></th>\n",
        "      <th></th>\n",
        "      <th></th>\n",
        "      <th></th>\n",
        "      <th></th>\n",
        "      <th></th>\n",
        "      <th></th>\n",
        "      <th></th>\n",
        "      <th></th>\n",
        "      <th></th>\n",
        "      <th></th>\n",
        "      <th></th>\n",
        "    </tr>\n",
        "  </thead>\n",
        "  <tbody>\n",
        "    <tr>\n",
        "      <th>102838</th>\n",
        "      <td>   4</td>\n",
        "      <td> Independent Producer Operator</td>\n",
        "      <td>   2712</td>\n",
        "      <td> Appalachia Southern</td>\n",
        "      <td>      Bibb</td>\n",
        "      <td>    Hebron Mine</td>\n",
        "      <td> Alabama</td>\n",
        "      <td> Permanently abandoned</td>\n",
        "      <td>     Surface</td>\n",
        "      <td> Birmingham Coal &amp; Coke Company</td>\n",
        "      <td> 2477 Valleydale Rd. S. B3, Birmingham, AL 35244</td>\n",
        "      <td>         Mine only</td>\n",
        "      <td>   10572</td>\n",
        "      <td>                            NaN</td>\n",
        "      <td> 2002</td>\n",
        "    </tr>\n",
        "    <tr>\n",
        "      <th>103184</th>\n",
        "      <td>   5</td>\n",
        "      <td> Independent Producer Operator</td>\n",
        "      <td>   2480</td>\n",
        "      <td> Appalachia Southern</td>\n",
        "      <td>   Fayette</td>\n",
        "      <td>     Berry Mine</td>\n",
        "      <td> Alabama</td>\n",
        "      <td>    Temporarily closed</td>\n",
        "      <td>     Surface</td>\n",
        "      <td> Midas Coal Company Incorporate</td>\n",
        "      <td>        401 10th Avenue, S. E, Cullman, AL 35055</td>\n",
        "      <td>         Mine only</td>\n",
        "      <td>    9725</td>\n",
        "      <td>                            NaN</td>\n",
        "      <td> 2002</td>\n",
        "    </tr>\n",
        "    <tr>\n",
        "      <th>100329</th>\n",
        "      <td>  55</td>\n",
        "      <td>          Operating Subsidiary</td>\n",
        "      <td> 123618</td>\n",
        "      <td> Appalachia Southern</td>\n",
        "      <td> Jefferson</td>\n",
        "      <td>   Concord Mine</td>\n",
        "      <td> Alabama</td>\n",
        "      <td>                Active</td>\n",
        "      <td> Underground</td>\n",
        "      <td>   U S Steel Mining Company Llc</td>\n",
        "      <td>       8800 Oak Grove Mine Road, Adger, AL 35006</td>\n",
        "      <td> Preparation Plant</td>\n",
        "      <td>       0</td>\n",
        "      <td> United Mine Workers of America</td>\n",
        "      <td> 2002</td>\n",
        "    </tr>\n",
        "    <tr>\n",
        "      <th>100851</th>\n",
        "      <td> 331</td>\n",
        "      <td>          Operating Subsidiary</td>\n",
        "      <td> 748182</td>\n",
        "      <td> Appalachia Southern</td>\n",
        "      <td> Jefferson</td>\n",
        "      <td> Oak Grove Mine</td>\n",
        "      <td> Alabama</td>\n",
        "      <td>                Active</td>\n",
        "      <td> Underground</td>\n",
        "      <td>   U S Steel Mining Company Llc</td>\n",
        "      <td>         8800 Oak Grove Mine Rd, Adger, AL 35006</td>\n",
        "      <td>         Mine only</td>\n",
        "      <td> 1942153</td>\n",
        "      <td> United Mine Workers of America</td>\n",
        "      <td> 2002</td>\n",
        "    </tr>\n",
        "    <tr>\n",
        "      <th>102354</th>\n",
        "      <td>  28</td>\n",
        "      <td> Independent Producer Operator</td>\n",
        "      <td>  55306</td>\n",
        "      <td> Appalachia Southern</td>\n",
        "      <td> Jefferson</td>\n",
        "      <td>      Lindbergh</td>\n",
        "      <td> Alabama</td>\n",
        "      <td>                Active</td>\n",
        "      <td>     Surface</td>\n",
        "      <td>       C &amp; H Mining Company Inc</td>\n",
        "      <td>            P.O. Box 70250, Tuscaloosa, AL 35407</td>\n",
        "      <td>         Mine only</td>\n",
        "      <td>  168446</td>\n",
        "      <td>                            NaN</td>\n",
        "      <td> 2002</td>\n",
        "    </tr>\n",
        "  </tbody>\n",
        "</table>\n",
        "</div>"
       ],
       "metadata": {},
       "output_type": "pyout",
       "prompt_number": 9,
       "text": [
        "         Average_Employees                   Company_Type  Labor_Hours  \\\n",
        "MSHA_ID                                                                  \n",
        "102838                   4  Independent Producer Operator         2712   \n",
        "103184                   5  Independent Producer Operator         2480   \n",
        "100329                  55           Operating Subsidiary       123618   \n",
        "100851                 331           Operating Subsidiary       748182   \n",
        "102354                  28  Independent Producer Operator        55306   \n",
        "\n",
        "                  Mine_Basin Mine_County       Mine_Name Mine_State  \\\n",
        "MSHA_ID                                                               \n",
        "102838   Appalachia Southern        Bibb     Hebron Mine    Alabama   \n",
        "103184   Appalachia Southern     Fayette      Berry Mine    Alabama   \n",
        "100329   Appalachia Southern   Jefferson    Concord Mine    Alabama   \n",
        "100851   Appalachia Southern   Jefferson  Oak Grove Mine    Alabama   \n",
        "102354   Appalachia Southern   Jefferson       Lindbergh    Alabama   \n",
        "\n",
        "                   Mine_Status    Mine_Type               Operating_Company  \\\n",
        "MSHA_ID                                                                       \n",
        "102838   Permanently abandoned      Surface  Birmingham Coal & Coke Company   \n",
        "103184      Temporarily closed      Surface  Midas Coal Company Incorporate   \n",
        "100329                  Active  Underground    U S Steel Mining Company Llc   \n",
        "100851                  Active  Underground    U S Steel Mining Company Llc   \n",
        "102354                  Active      Surface        C & H Mining Company Inc   \n",
        "\n",
        "                               Operating_Company_Address     Operation_Type  \\\n",
        "MSHA_ID                                                                       \n",
        "102838   2477 Valleydale Rd. S. B3, Birmingham, AL 35244          Mine only   \n",
        "103184          401 10th Avenue, S. E, Cullman, AL 35055          Mine only   \n",
        "100329         8800 Oak Grove Mine Road, Adger, AL 35006  Preparation Plant   \n",
        "100851           8800 Oak Grove Mine Rd, Adger, AL 35006          Mine only   \n",
        "102354              P.O. Box 70250, Tuscaloosa, AL 35407          Mine only   \n",
        "\n",
        "         Production_short_tons                      Union_Code  Year  \n",
        "MSHA_ID                                                               \n",
        "102838                   10572                             NaN  2002  \n",
        "103184                    9725                             NaN  2002  \n",
        "100329                       0  United Mine Workers of America  2002  \n",
        "100851                 1942153  United Mine Workers of America  2002  \n",
        "102354                  168446                             NaN  2002  "
       ]
      }
     ],
     "prompt_number": 9
    },
    {
     "cell_type": "code",
     "collapsed": false,
     "input": [
      "# Save output\n",
      "# dframe.to_csv(output_file, )"
     ],
     "language": "python",
     "metadata": {},
     "outputs": [],
     "prompt_number": 11
    },
    {
     "cell_type": "code",
     "collapsed": false,
     "input": [],
     "language": "python",
     "metadata": {},
     "outputs": []
    }
   ],
   "metadata": {}
  }
 ]
}