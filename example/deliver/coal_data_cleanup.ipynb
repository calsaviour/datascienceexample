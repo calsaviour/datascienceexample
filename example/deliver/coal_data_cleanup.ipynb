{
 "cells": [
  {
   "cell_type": "markdown",
   "metadata": {},
   "source": [
    "#  Clean the raw data Data from U.S. Energy Information Administration Data URL: eia.gov Combining and cleaning the raw csv files into a cleaned data set and coherent database. Generally a good idea to have a separate data folder with the raw data. When you clean the raw data, leave the raw in place, and create cleaned version with the steps included (ideal situation for Notebook)."
   ]
  },
  {
   "cell_type": "code",
   "execution_count": null,
   "metadata": {
    "collapsed": false
   },
   "outputs": [],
   "source": [
    "# %install_ext http://raw.github.com/jrjohansson/version_information/master/version_information.py\n",
    "%load_ext version_information\n",
    "%reload_ext version_information\n",
    "%version_information numpy, scipy, matplotlib, pandas"
   ]
  },
  {
   "cell_type": "code",
   "execution_count": null,
   "metadata": {
    "collapsed": false
   },
   "outputs": [],
   "source": [
    "import numpy as np\n",
    "import pandas as pd"
   ]
  },
  {
   "cell_type": "code",
   "execution_count": null,
   "metadata": {
    "collapsed": false
   },
   "outputs": [],
   "source": [
    "!pwd"
   ]
  },
  {
   "cell_type": "code",
   "execution_count": null,
   "metadata": {
    "collapsed": false
   },
   "outputs": [],
   "source": [
    "# The cleaned data file is saved here:\n",
    "# output_file = \"../data/coal_prod_cleaned.csv\""
   ]
  },
  {
   "cell_type": "code",
   "execution_count": null,
   "metadata": {
    "collapsed": false
   },
   "outputs": [],
   "source": [
    "# df1 = pd.read_csv(\"../data/coal_prod_2002.csv\", index_col=\"MSHA_ID\")\n",
    "# df2 = pd.read_csv(\"../data/coal_prod_2003.csv\", index_col=\"MSHA_ID\")\n",
    "# df3 = pd.read_csv(\"../data/coal_prod_2004.csv\", index_col=\"MSHA_ID\")\n",
    "# df4 = pd.read_csv(\"../data/coal_prod_2005.csv\", index_col=\"MSHA_ID\")\n",
    "# df5 = pd.read_csv(\"../data/coal_prod_2006.csv\", index_col=\"MSHA_ID\")\n",
    "# df6 = pd.read_csv(\"../data/coal_prod_2007.csv\", index_col=\"MSHA_ID\")\n",
    "# df7 = pd.read_csv(\"../data/coal_prod_2008.csv\", index_col=\"MSHA_ID\")\n",
    "# df8 = pd.read_csv(\"../data/coal_prod_2009.csv\", index_col=\"MSHA_ID\")\n",
    "# df9 = pd.read_csv(\"../data/coal_prod_2010.csv\", index_col=\"MSHA_ID\")\n",
    "# df10 = pd.read_csv(\"../data/coal_prod_2011.csv\", index_col=\"MSHA_ID\")\n",
    "# df11 = pd.read_csv(\"../data/coal_prod_2012.csv\", index_col=\"MSHA_ID\")\n",
    "# dframe = pd.concat((df1, df2, df3, df4, df5, df6, df7, df8, df9, df10, df11))"
   ]
  },
  {
   "cell_type": "code",
   "execution_count": null,
   "metadata": {
    "collapsed": false
   },
   "outputs": [],
   "source": [
    "dframe = pd.DataFrame.from_csv(\"../data/coal_prod_cleaned.csv\")"
   ]
  },
  {
   "cell_type": "code",
   "execution_count": null,
   "metadata": {
    "collapsed": false
   },
   "outputs": [],
   "source": [
    "# Noticed a probable typo in the data set: \n",
    "dframe['Company_Type'].unique()"
   ]
  },
  {
   "cell_type": "code",
   "execution_count": null,
   "metadata": {
    "collapsed": false
   },
   "outputs": [],
   "source": [
    "# Correcting the Company_Type\n",
    "dframe.loc[dframe['Company_Type'] == 'Indepedent Producer Operator', 'Company_Type'] = 'Independent Producer Operator'\n",
    "dframe.head()"
   ]
  },
  {
   "cell_type": "code",
   "execution_count": null,
   "metadata": {
    "collapsed": false
   },
   "outputs": [],
   "source": [
    "# Save output\n",
    "# dframe.to_csv(output_file, )"
   ]
  },
  {
   "cell_type": "code",
   "execution_count": null,
   "metadata": {
    "collapsed": false
   },
   "outputs": [],
   "source": []
  }
 ],
 "metadata": {
  "kernelspec": {
   "display_name": "Python 2",
   "language": "python",
   "name": "python2"
  }
 },
 "nbformat": 4,
 "nbformat_minor": 0
}
